{
 "cells": [
  {
   "cell_type": "code",
   "execution_count": 29,
   "metadata": {
    "collapsed": true
   },
   "outputs": [],
   "source": [
    "import json\n",
    "\n",
    "train_file = open(\"train.json\",'r')\n",
    "dev_file = open(\"dev.json\",'r')\n",
    "test_file=open(\"dev.json\",'r')\n",
    "train = json.loads(train_file.read())\n",
    "dev = json.loads(dev_file.read())\n",
    "test = json.loads(test_file.read())"
   ]
  },
  {
   "cell_type": "code",
   "execution_count": 104,
   "metadata": {
    "collapsed": false
   },
   "outputs": [
    {
     "name": "stdout",
     "output_type": "stream",
     "text": [
      "What technology is used by night-vision devices?\n",
      "active near-infrared illumination\n",
      "Night-vision devices using active near-infrared illumination allow people or animals to be observed without the observer being detected.\n"
     ]
    }
   ],
   "source": [
    "import nltk\n",
    "from sklearn.feature_extraction import DictVectorizer\n",
    "from sklearn.feature_extraction.text import TfidfTransformer\n",
    "from scipy.spatial.distance import cosine as cos_distance\n",
    "lemmatizer = nltk.stem.wordnet.WordNetLemmatizer()\n",
    "word_tokenizer = nltk.tokenize.regexp.WordPunctTokenizer()\n",
    "stopwords = set(nltk.corpus.stopwords.words('english'))\n",
    "vectorizer = DictVectorizer()\n",
    "transformer = TfidfTransformer(smooth_idf=False,norm=None)\n",
    "def get_BOW(text):\n",
    "    BOW = {}\n",
    "    for word in nltk.word_tokenize(text):\n",
    "        if word not in stopwords:\n",
    "            if word==',' or word=='.' or word==';':\n",
    "                continue\n",
    "            else:\n",
    "                word=lemmatize(word).lower()\n",
    "                BOW[word] = BOW.get(word,0) + 1\n",
    "    return BOW\n",
    "\n",
    "\n",
    "def lemmatize(word):\n",
    "    lemma = lemmatizer.lemmatize(word,'v')\n",
    "    if lemma == word:\n",
    "        lemma = lemmatizer.lemmatize(word,'n')\n",
    "    return lemma\n",
    "\n",
    "\n",
    "def transform_query(query_text):\n",
    "    qlist=[]\n",
    "    qlist.append(get_BOW(query_text))\n",
    "    return transformer.transform(vectorizer.transform(qlist))\n",
    "\n",
    "\n",
    "def get_best_doc_num(query):\n",
    "    f = lambda x: cos_distance(query,brown_matrix[x])\n",
    "    best_doc = min(range(len(brown_matrix)),key=f)\n",
    "    return best_doc\n",
    "\n",
    "\n",
    "texts = []\n",
    "for item in dev[0]['sentences']:\n",
    "    texts.append(get_BOW(item))\n",
    "\n",
    "\n",
    "brown_matrix = vectorizer.fit_transform(texts)\n",
    "brown_matrix = transformer.fit_transform(brown_matrix).toarray()\n",
    "\n",
    "query = transform_query(dev[0]['qa'][0]['question']).toarray()\n",
    "print dev[0]['qa'][0]['question']\n",
    "print dev[0]['qa'][0]['answer']\n",
    "print dev[0]['sentences'][get_best_doc_num(query)]\n",
    " "
   ]
  },
  {
   "cell_type": "code",
   "execution_count": 107,
   "metadata": {
    "collapsed": false
   },
   "outputs": [
    {
     "data": {
      "text/plain": [
       "[(u'People', u'O')]"
      ]
     },
     "execution_count": 107,
     "metadata": {},
     "output_type": "execute_result"
    }
   ],
   "source": [
    "from nltk.tag.stanford import StanfordNERTagger\n",
    "st = StanfordNERTagger('/Users/Luna/Downloads/stanford-ner/classifiers/english.all.3class.distsim.crf.ser.gz',\n",
    "               '/Users/Luna/Downloads/stanford-ner/stanford-ner.jar') \n",
    "st.tag('People'.split())"
   ]
  },
  {
   "cell_type": "code",
   "execution_count": null,
   "metadata": {
    "collapsed": true
   },
   "outputs": [],
   "source": []
  }
 ],
 "metadata": {
  "kernelspec": {
   "display_name": "Python 2",
   "language": "python",
   "name": "python2"
  },
  "language_info": {
   "codemirror_mode": {
    "name": "ipython",
    "version": 2
   },
   "file_extension": ".py",
   "mimetype": "text/x-python",
   "name": "python",
   "nbconvert_exporter": "python",
   "pygments_lexer": "ipython2",
   "version": "2.7.11"
  }
 },
 "nbformat": 4,
 "nbformat_minor": 0
}
