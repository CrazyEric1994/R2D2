{
 "cells": [
  {
   "cell_type": "markdown",
   "metadata": {},
   "source": [
    "# Answer Ranking\n",
    "After you have extracted a set of entities from your sentence, you will rank them to choose the best answer. The ranking should be based on three factors. First, answers whose content words all appear in the question should be ranked lowest. Second, answers which match the question type should be ranked higher than those that don't; for this, you should build a simple rule-based question type classifier based on key words (e.g. questions which contain \"who\" are people). Third, among entities of the same type, the prefered entity should be the one which is closer in the sentence to a open-class word from the question."
   ]
  },
  {
   "cell_type": "code",
   "execution_count": null,
   "metadata": {
    "collapsed": true
   },
   "outputs": [],
   "source": [
    "import operator\n",
    "\n",
    "# demo_dict = {'PERSON':['Jiawei Zhang','Elon Musk'],\n",
    "#              'LOCATION':['Melbourne'],\n",
    "#              'NUMBER':['2020','2017'],\n",
    "#              'OTHER':['What The Hell']\n",
    "#             }\n",
    "\n",
    "# demo_sentence = 'Jiawei Zhang and Elon Musk went to Melbourne in 2017 and will be back in 2020 What The Hell!'\n",
    "# demo_question = 'When did Jiawei Zhang and Elon Musk go to Melbourne?'\n",
    "# # 'When will Jiawei Zhang and Elon Musk be back from Melbourne?'\n",
    "\n",
    "\n",
    "# A simple rule-based question type classifier based on key words \n",
    "def get_question_type(question):\n",
    "    # TODO: HAND-CODED, NEED TO BE REFINED!!\n",
    "    # TODO: need to low-case to compare?\n",
    "    \n",
    "    type_rules = {'PERSON':[\"Who\", \"Whose\", \"Whom\"],\n",
    "                  'LOCATION':[\"Where\"],\n",
    "                  'NUMBER':[\"When\", \"few\", \"little\", \"much\", \"many\",\n",
    "                            \"young\", \"old\", \"long\", \"year\", \"years\"]\n",
    "                 }\n",
    "    q_type = None\n",
    "    for question_type, key_words in type_rules.items():\n",
    "        for key_word in key_words:\n",
    "            print key_word in question\n",
    "            if key_word in question:\n",
    "                q_type = question_type\n",
    "                break\n",
    "        if q_type == None:\n",
    "            q_type = 'OTHER'\n",
    "    return q_type\n",
    "\n",
    "\n",
    "def get_ranked_ans(entities_dic, demo_question, sentence):\n",
    "    q_type = get_question_type(demo_question)\n",
    "    tmp_rank = {}\n",
    "    for ent_type,entities in entities_dic.items():\n",
    "        # answers whose content words all appear in the question should be ranked lowest.\n",
    "        for entity in entities:\n",
    "            if entity in demo_question:\n",
    "                tmp_rank[entity] = tmp_rank.setdefault(entity,0) - 1\n",
    "        # Answers which match the question type should be ranked higher than those that don't\n",
    "        if ent_type == q_type:\n",
    "            for entity in entities:\n",
    "                tmp_rank[entity] = tmp_rank.setdefault(entity,0) + 1\n",
    "            # entity closer in the sentence to a closed-class word should be preferred\n",
    "            tmp_rank[get_preferred_entity(entities, sentence)] = tmp_rank.setdefault(entity,0) + 1\n",
    "    \n",
    "    # sort and choose the best answer\n",
    "    sorted_ans = sorted(tmp_rank.items(), key=operator.itemgetter(1), reverse=True)\n",
    "    best_ans = sorted_ans[0][0]\n",
    "    \n",
    "    return best_ans    \n",
    "    \n",
    "    \n",
    "# among entities of the same type, the prefered entity should be \n",
    "# the one which is closer in the sentence to a closed-class word\n",
    "# from the question.\n",
    "def get_preferred_entity(entity_list, sentence):\n",
    "    \n",
    "    return preferred_entity\n",
    "\n",
    "\n",
    "get_ranked_ans(demo_dict, demo_question, demo_sentence)\n"
   ]
  }
 ],
 "metadata": {
  "kernelspec": {
   "display_name": "Python 2",
   "language": "python",
   "name": "python2"
  },
  "language_info": {
   "codemirror_mode": {
    "name": "ipython",
    "version": 2
   },
   "file_extension": ".py",
   "mimetype": "text/x-python",
   "name": "python",
   "nbconvert_exporter": "python",
   "pygments_lexer": "ipython2",
   "version": "2.7.10"
  }
 },
 "nbformat": 4,
 "nbformat_minor": 2
}
