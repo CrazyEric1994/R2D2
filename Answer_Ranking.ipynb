{
 "cells": [
  {
   "cell_type": "markdown",
   "metadata": {},
   "source": [
    "# Answer Ranking\n",
    "After you have extracted a set of entities from your sentence, you will rank them to choose the best answer. The ranking should be based on three factors. First, answers whose content words all appear in the question should be ranked lowest. Second, answers which match the question type should be ranked higher than those that don't; for this, you should build a simple rule-based question type classifier based on key words (e.g. questions which contain \"who\" are people). Third, among entities of the same type, the prefered entity should be the one which is closer in the sentence to a open-class word from the question."
   ]
  },
  {
   "cell_type": "code",
   "execution_count": 332,
   "metadata": {
    "collapsed": true
   },
   "outputs": [],
   "source": [
    "import operator\n",
    "import nltk\n",
    "\n",
    "# A simple rule-based question type classifier based on key words \n",
    "def get_question_type(question):\n",
    "    # TODO: HAND-CODED, NEED TO BE REFINED!!\n",
    "    # TODO: need to low-case to compare?\n",
    "    \n",
    "    type_rules = {'PERSON':[\"Who\", \"Whose\", \"Whom\"],\n",
    "                  'LOCATION':[\"Where\"],\n",
    "                  'NUMBER':[\"When\", \"few\", \"little\", \"much\", \"many\",\n",
    "                            \"young\", \"old\", \"long\", \"year\", \"years\"]\n",
    "                 }\n",
    "    q_type = None\n",
    "    for question_type, key_words in type_rules.items():\n",
    "        for key_word in key_words:\n",
    "            if key_word in question:\n",
    "                q_type = question_type\n",
    "                break\n",
    "        if q_type == None:\n",
    "            q_type = 'OTHER'\n",
    "    return q_type"
   ]
  },
  {
   "cell_type": "code",
   "execution_count": 333,
   "metadata": {
    "collapsed": true
   },
   "outputs": [],
   "source": [
    "from nltk import word_tokenize\n",
    "\n",
    "# among entities of the same type, the prefered entity should be \n",
    "# the one which is closer in the sentence to a open-class word\n",
    "# from the question.\n",
    "# ----> nouns, verbs, adjectives, and adverbs.\n",
    "def get_preferred_entity(entity_list, sentence, question):\n",
    "    preferred_entity = None\n",
    "    sentence_text = word_tokenize(sentence)\n",
    "    question_text = word_tokenize(question)\n",
    "    sentence_tag = nltk.pos_tag(sentence_text,tagset='universal')\n",
    "    question_tag = nltk.pos_tag(question_text,tagset='universal')\n",
    "    \n",
    "    # initialize a list for comparing, and set all elements as 0\n",
    "    is_open_word = [0] * len(sentence_text)\n",
    "    # find an open word in the question\n",
    "    for word, tag in question_tag:\n",
    "        if tag in ['ADJ','NOUN','VERB','ADV']:\n",
    "            # if the open word appears in the sentence, then mark as 1\n",
    "            for i in range(len(sentence_text)):\n",
    "                if sentence_text[i] == word:\n",
    "                    is_open_word[i] = 1\n",
    "#     print is_open_word\n",
    "    \n",
    "    # find the closest distance to an open-class word for an entity\n",
    "    def get_distance(entity):\n",
    "        # get the position of entity, and find the open class word \n",
    "        # from the nearest at both sides\n",
    "        distance = None\n",
    "        position = sentence_text.index(entity)\n",
    "        for i in range(1, len(sentence_text)):\n",
    "            if position - i >= 0:\n",
    "                if is_open_word[position - i] == 1:  # find an open-class word on the left\n",
    "                    distance = i\n",
    "                    break\n",
    "                elif position + i < len(is_open_word):  # find an open-class word on the right\n",
    "                    if is_open_word[position + i] == 1:\n",
    "                        distance = i\n",
    "                        break\n",
    "                else:\n",
    "                    distance = len(sentence_text) + 1  # didn't find open-class words\n",
    "        return distance\n",
    "    \n",
    "    # get distance for each entity and choose the best one\n",
    "    all_distance = []\n",
    "    for entity in entity_list:\n",
    "        all_distance.append(get_distance(entity))\n",
    "        preferred_entity = entity_list[all_distance.index(min(all_distance))]\n",
    "\n",
    "    return preferred_entity\n",
    "    "
   ]
  },
  {
   "cell_type": "code",
   "execution_count": 334,
   "metadata": {},
   "outputs": [],
   "source": [
    "def get_ranked_ans(entities_dic, question, sentence):\n",
    "    \n",
    "    # identify if the entity set is empty. If True, return nothing\n",
    "    is_empty = True\n",
    "    for values in entities_dic.values():\n",
    "        if len(values) != 0:\n",
    "            is_empty = False\n",
    "            \n",
    "    if is_empty == False:\n",
    "        q_type = get_question_type(question)\n",
    "        tmp_rank = {}\n",
    "        for ent_type,entities in entities_dic.items():\n",
    "            # answers whose content words all appear in the question should be ranked lowest.\n",
    "            for entity in entities:\n",
    "                if entity in question:\n",
    "                    tmp_rank[entity] = tmp_rank.setdefault(entity,0) - 1\n",
    "            # Answers which match the question type should be ranked higher than those that don't\n",
    "            if ent_type == q_type:\n",
    "                for entity in entities:\n",
    "                    tmp_rank[entity] = tmp_rank.setdefault(entity,0) + 1\n",
    "                ######## TODO: Apply this to all types?\n",
    "                # entity closer in the sentence to a closed-class word should be preferred\n",
    "                tmp_rank[get_preferred_entity(entities, sentence, question)] = tmp_rank.setdefault(entity,0) + 1\n",
    "        # sort and choose the best answer\n",
    "        sorted_ans = sorted(tmp_rank.items(), key=operator.itemgetter(1), reverse=True)\n",
    "        best_ans = sorted_ans[0][0]\n",
    "        return best_ans\n",
    "    else:\n",
    "        return ''"
   ]
  },
  {
   "cell_type": "code",
   "execution_count": 335,
   "metadata": {},
   "outputs": [
    {
     "name": "stdout",
     "output_type": "stream",
     "text": [
      "Q: Where did Jiawei Zhang and Elon Musk go to?\n",
      "A: Melbourne\n",
      "\n",
      "Q: When did Jiawei Zhang and Elon Musk go to Melbourne?\n",
      "A: 2017\n",
      "\n",
      "Q: When will Jiawei Zhang and Elon Musk be back from Melbourne?\n",
      "A: 2020\n",
      "\n"
     ]
    }
   ],
   "source": [
    "# Demo\n",
    "####### TODO: 'Jiawei Zhang' is not in the list\n",
    "\n",
    "demo_dict = {'PERSON':['Jiawei Zhang','Elon Musk'],\n",
    "             'LOCATION':['Melbourne'],\n",
    "             'NUMBER':['2020','2017'],\n",
    "             'OTHER':['What The Hell']\n",
    "            }\n",
    "demo_sentence = 'Jiawei Zhang and Elon Musk went to Melbourne in early 2017 and will be back in 2020 What The Hell!'\n",
    "demo_question_1 = 'Where did Jiawei Zhang and Elon Musk go to?'\n",
    "demo_question_2 = 'When did Jiawei Zhang and Elon Musk go to Melbourne?'\n",
    "demo_question_3 = 'When will Jiawei Zhang and Elon Musk be back from Melbourne?'\n",
    "# demo_question_4 = 'Who did Jiawei Zhang go to Melbourne with?'\n",
    "\n",
    "print 'Q: ' + str(demo_question_1)\n",
    "print 'A: ' + str(get_ranked_ans(demo_dict, demo_question_1, demo_sentence)) + '\\n'\n",
    "\n",
    "print 'Q: ' + str(demo_question_2)\n",
    "print 'A: ' + str(get_ranked_ans(demo_dict, demo_question_2, demo_sentence)) + '\\n'\n",
    "\n",
    "print 'Q: ' + str(demo_question_3)\n",
    "print 'A: ' + str(get_ranked_ans(demo_dict, demo_question_3, demo_sentence)) + '\\n'"
   ]
  }
 ],
 "metadata": {
  "kernelspec": {
   "display_name": "Python 2",
   "language": "python",
   "name": "python2"
  },
  "language_info": {
   "codemirror_mode": {
    "name": "ipython",
    "version": 2
   },
   "file_extension": ".py",
   "mimetype": "text/x-python",
   "name": "python",
   "nbconvert_exporter": "python",
   "pygments_lexer": "ipython2",
   "version": "2.7.10"
  }
 },
 "nbformat": 4,
 "nbformat_minor": 2
}
